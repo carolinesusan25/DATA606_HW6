{
  "cells": [
    {
      "cell_type": "code",
      "execution_count": null,
      "metadata": {
        "id": "TsqAqjjfYelt"
      },
      "outputs": [],
      "source": [
        "import pandas as pd\n",
        "import numpy as np\n",
        "import pandas as pd\n",
        "import matplotlib.pyplot as plt\n",
        "import arviz as az\n",
        "from sklearn.linear_model import LogisticRegression\n"
      ]
    },
    {
      "cell_type": "code",
      "execution_count": null,
      "metadata": {
        "scrolled": true,
        "id": "3GqdmbU-fOAu"
      },
      "outputs": [],
      "source": [
        "pip install arviz"
      ]
    },
    {
      "cell_type": "markdown",
      "metadata": {
        "id": "WjI4d1X21kUb"
      },
      "source": [
        "## The Dataset\n",
        "\n",
        "You can download the dataset from here: https://www.kaggle.com/datasets/uciml/pima-indians-diabetes-database"
      ]
    },
    {
      "cell_type": "markdown",
      "source": [
        "## Question 1"
      ],
      "metadata": {
        "id": "VgAMTbJTfR_Z"
      }
    },
    {
      "cell_type": "code",
      "execution_count": null,
      "metadata": {
        "id": "R-NmkziT12EI",
        "outputId": "f68d5ecc-f211-43e9-a7dc-f97a1549b4a0"
      },
      "outputs": [
        {
          "name": "stdout",
          "output_type": "stream",
          "text": [
            "   Pregnancies  Glucose  BloodPressure  SkinThickness  Insulin   BMI  \\\n",
            "0            6      148             72             35        0  33.6   \n",
            "1            1       85             66             29        0  26.6   \n",
            "2            8      183             64              0        0  23.3   \n",
            "3            1       89             66             23       94  28.1   \n",
            "4            0      137             40             35      168  43.1   \n",
            "\n",
            "   DiabetesPedigreeFunction  Age  Outcome  \n",
            "0                     0.627   50        1  \n",
            "1                     0.351   31        0  \n",
            "2                     0.672   32        1  \n",
            "3                     0.167   21        0  \n",
            "4                     2.288   33        1  \n"
          ]
        }
      ],
      "source": [
        "## 1 point\n",
        "\n",
        "# Read CSV file inot a dataframe\n",
        "df = pd.read_csv('/Users/paditya9/Downloads/diabetes.csv')\n",
        "\n",
        "# Show the first 5 rows of the dataframe\n",
        "\n",
        "print(df.head(5))\n"
      ]
    },
    {
      "cell_type": "markdown",
      "source": [
        "## Question 2"
      ],
      "metadata": {
        "id": "verXHvWWfcWT"
      }
    },
    {
      "cell_type": "code",
      "execution_count": null,
      "metadata": {
        "id": "wqiy_MHL2Cqi",
        "outputId": "0bf60a49-6142-42d8-9411-29bb48c92575"
      },
      "outputs": [
        {
          "name": "stdout",
          "output_type": "stream",
          "text": [
            "Intercept: [-7.7029066]\n",
            "Coefficients: [[ 1.17252326e-01  3.35997596e-02 -1.40873984e-02 -1.27050694e-03\n",
            "  -1.24031692e-03  7.72024300e-02  1.41904141e+00  1.00354396e-02]]\n"
          ]
        },
        {
          "name": "stderr",
          "output_type": "stream",
          "text": [
            "/Users/paditya9/opt/anaconda3/lib/python3.9/site-packages/sklearn/linear_model/_logistic.py:814: ConvergenceWarning: lbfgs failed to converge (status=1):\n",
            "STOP: TOTAL NO. of ITERATIONS REACHED LIMIT.\n",
            "\n",
            "Increase the number of iterations (max_iter) or scale the data as shown in:\n",
            "    https://scikit-learn.org/stable/modules/preprocessing.html\n",
            "Please also refer to the documentation for alternative solver options:\n",
            "    https://scikit-learn.org/stable/modules/linear_model.html#logistic-regression\n",
            "  n_iter_i = _check_optimize_result(\n"
          ]
        }
      ],
      "source": [
        "## 3 points\n",
        "\n",
        "# Read the CSV file into a pandas dataframe\n",
        "df = pd.read_csv('/Users/paditya9/Downloads/diabetes.csv')\n",
        "\n",
        "# Assign the 'outcome' column to y, and the rest to X\n",
        "y = df['Outcome']\n",
        "X = df.drop('Outcome', axis=1)\n",
        "\n",
        "# Create a logistic regression model and fit the data\n",
        "model = LogisticRegression()\n",
        "model.fit(X, y)\n",
        "\n",
        "# Print the intercept and coefficients\n",
        "print(\"Intercept:\", model.intercept_)\n",
        "print(\"Coefficients:\", model.coef_)\n",
        "\n"
      ]
    },
    {
      "cell_type": "markdown",
      "source": [
        "## Question 3"
      ],
      "metadata": {
        "id": "kZrwKLwSff-z"
      }
    },
    {
      "cell_type": "code",
      "execution_count": null,
      "metadata": {
        "id": "uX08XT0yY71T",
        "scrolled": true,
        "outputId": "6726cdad-5679-410b-9f91-c12fb4e755d9"
      },
      "outputs": [
        {
          "ename": "NameError",
          "evalue": "name 'pm' is not defined",
          "output_type": "error",
          "traceback": [
            "\u001b[0;31m---------------------------------------------------------------------------\u001b[0m",
            "\u001b[0;31mNameError\u001b[0m                                 Traceback (most recent call last)",
            "\u001b[0;32m/var/folders/t7/02k4520x1518sl8vgpd45vc80000gn/T/ipykernel_60442/3357527286.py\u001b[0m in \u001b[0;36m<module>\u001b[0;34m\u001b[0m\n\u001b[1;32m      7\u001b[0m \u001b[0;31m## What is map_est?\u001b[0m\u001b[0;34m\u001b[0m\u001b[0;34m\u001b[0m\u001b[0m\n\u001b[1;32m      8\u001b[0m \u001b[0;34m\u001b[0m\u001b[0m\n\u001b[0;32m----> 9\u001b[0;31m \u001b[0;32mwith\u001b[0m \u001b[0mpm\u001b[0m\u001b[0;34m.\u001b[0m\u001b[0mModel\u001b[0m\u001b[0;34m(\u001b[0m\u001b[0;34m)\u001b[0m \u001b[0;32mas\u001b[0m \u001b[0mlogreg_model\u001b[0m\u001b[0;34m:\u001b[0m\u001b[0;34m\u001b[0m\u001b[0;34m\u001b[0m\u001b[0m\n\u001b[0m\u001b[1;32m     10\u001b[0m \u001b[0;34m\u001b[0m\u001b[0m\n\u001b[1;32m     11\u001b[0m     \u001b[0mw0\u001b[0m \u001b[0;34m=\u001b[0m \u001b[0mpm\u001b[0m\u001b[0;34m.\u001b[0m\u001b[0mNormal\u001b[0m\u001b[0;34m(\u001b[0m\u001b[0;34m'w0'\u001b[0m\u001b[0;34m,\u001b[0m \u001b[0mmu\u001b[0m\u001b[0;34m=\u001b[0m\u001b[0;36m0\u001b[0m\u001b[0;34m,\u001b[0m \u001b[0msd\u001b[0m\u001b[0;34m=\u001b[0m\u001b[0;36m100\u001b[0m\u001b[0;34m)\u001b[0m\u001b[0;34m\u001b[0m\u001b[0;34m\u001b[0m\u001b[0m\n",
            "\u001b[0;31mNameError\u001b[0m: name 'pm' is not defined"
          ]
        }
      ],
      "source": [
        "## 2 points\n",
        "\n",
        "## Explain what the code is doing:\n",
        "## What are the prior probabilities of the intercept and coefficients?\n",
        "# Which likelihood distribution has been used?\n",
        "## What does pm.invlogit(linreg) mean?\n",
        "## What is map_est?\n",
        "\n",
        "with pm.Model() as logreg_model:\n",
        "  \n",
        "    w0 = pm.Normal('w0', mu=0, sd=100)\n",
        "    w1 = pm.Normal('w1', mu=0, sd=100)\n",
        "    w2 = pm.Normal('w2', mu=0, sd=100)\n",
        "    w3 = pm.Normal('w3', mu=0, sd=100)\n",
        "    w4 = pm.Normal('w4', mu=0, sd=100)\n",
        "    w5 = pm.Normal('w5', mu=0, sd=100)\n",
        "    w6 = pm.Normal('w6', mu=0, sd=100)\n",
        "    w7 = pm.Normal('w7', mu=0, sd=100)\n",
        "    w8 = pm.Normal('w8', mu=0, sd=100)\n",
        "   \n",
        "    \n",
        "    linreg = w0 * np.ones(diab_df.shape[0]) + w1 * diab_df.Pregnancies.values + w2 * diab_df.Glucose.values \\\n",
        "    + w3 * diab_df.BloodPressure.values + w4 * diab_df.SkinThickness.values + w5 * diab_df.Insulin.values + \\\n",
        "    w6 * diab_df.BMI.values + w7 * diab_df.DiabetesPedigreeFunction.values + w8 * diab_df.Age.values\n",
        "    p_outcome = pm.invlogit(linreg)\n",
        "\n",
        "    likelihood = pm.Bernoulli('likelihood', p_outcome, observed=diab_df.Outcome.values)\n",
        "\n",
        "    \n",
        "    map_est= pm.find_MAP()\n",
        "    print(map_est)"
      ]
    },
    {
      "cell_type": "markdown",
      "source": [
        "The code defines a Bayesian logistic regression model using the PyMC3 library. The model is built to predict the probability of diabetes for a given set of features(Pregnancies, Glucose, BloodPressure, SkinThickness, Insulin, BMI, DiabetesPedigreeFunction, and Age) using a dataset called diab_df.\n",
        "\n",
        "The prior probabilities of the intercept and coefficients are defined as Normal distributions with a mean of 0 and a standard deviation of 100. These prior probabilities represent the model's belief about the distribution of the parameters before observing any data.\n",
        "\n",
        "The likelihood distribution used in the model is Bernoulli, which is appropriate for binary classification tasks. The likelihood describes the probability of observing the outcome variable (diabetes or not) given the predicted probability of the model.\n",
        "\n",
        "The code computes the logistic regression output (linreg) as the weighted sum of the features, then applies the inverse logit function (pm.invlogit) to obtain the predicted probability of diabetes (p_outcome). Finally, the likelihood distribution is defined with the observed diabetes status and the predicted probability of diabetes.\n",
        "\n",
        "The MAP (maximum a posteriori) estimate is computed using the find_MAP function from PyMC3 library, which returns the maximum posterior probability estimate of the model parameters. The MAP estimate is printed to the console using print(map_est)."
      ],
      "metadata": {
        "id": "h5Gu-mNqfncK"
      }
    },
    {
      "cell_type": "markdown",
      "source": [
        "## Question 4"
      ],
      "metadata": {
        "id": "h8J6aoBGf39w"
      }
    },
    {
      "cell_type": "code",
      "execution_count": null,
      "metadata": {
        "id": "CNkDNUe2fOBD",
        "outputId": "fe2d9fd5-d153-4592-ae9d-cc988bb34e00"
      },
      "outputs": [
        {
          "name": "stdout",
          "output_type": "stream",
          "text": [
            "Collecting package metadata (repodata.json): done\n",
            "Solving environment: failed\n",
            "\n",
            "PackagesNotFoundError: The following packages are missing from the target environment:\n",
            "  - theano\n",
            "\n",
            "\n",
            "\u001b[33mWARNING: Skipping Theano as it is not installed.\u001b[0m\u001b[33m\n",
            "\u001b[0m\u001b[33mWARNING: Skipping Theano-PyMC as it is not installed.\u001b[0m\u001b[33m\n",
            "\u001b[0m\u001b[33mWARNING: Skipping PyMC3 as it is not installed.\u001b[0m\u001b[33m\n",
            "\u001b[0mCollecting PyMC3\n",
            "  Downloading pymc3-3.11.5-py3-none-any.whl (872 kB)\n",
            "\u001b[2K     \u001b[90m━━━━━━━━━━━━━━━━━━━━━━━━━━━━━━━━━━━━━━━\u001b[0m \u001b[32m872.2/872.2 kB\u001b[0m \u001b[31m2.9 MB/s\u001b[0m eta \u001b[36m0:00:00\u001b[0m00:01\u001b[0m00:01\u001b[0m\n",
            "\u001b[?25hRequirement already satisfied: patsy>=0.5.1 in /Users/paditya9/opt/anaconda3/lib/python3.9/site-packages (from PyMC3) (0.5.2)\n",
            "Collecting fastprogress>=0.2.0\n",
            "  Downloading fastprogress-1.0.3-py3-none-any.whl (12 kB)\n",
            "Requirement already satisfied: numpy<1.22.2,>=1.15.0 in /Users/paditya9/opt/anaconda3/lib/python3.9/site-packages (from PyMC3) (1.21.5)\n",
            "Requirement already satisfied: pandas>=0.24.0 in /Users/paditya9/opt/anaconda3/lib/python3.9/site-packages (from PyMC3) (1.4.4)\n",
            "Collecting theano-pymc==1.1.2\n",
            "  Downloading Theano-PyMC-1.1.2.tar.gz (1.8 MB)\n",
            "\u001b[2K     \u001b[90m━━━━━━━━━━━━━━━━━━━━━━━━━━━━━━━━━━━━━━━━\u001b[0m \u001b[32m1.8/1.8 MB\u001b[0m \u001b[31m18.5 MB/s\u001b[0m eta \u001b[36m0:00:00\u001b[0ma \u001b[36m0:00:01\u001b[0m\n",
            "\u001b[?25h  Preparing metadata (setup.py) ... \u001b[?25ldone\n",
            "\u001b[?25hRequirement already satisfied: typing-extensions>=3.7.4 in /Users/paditya9/opt/anaconda3/lib/python3.9/site-packages (from PyMC3) (4.3.0)\n",
            "Collecting cachetools>=4.2.1\n",
            "  Downloading cachetools-5.3.0-py3-none-any.whl (9.3 kB)\n",
            "Collecting semver>=2.13.0\n",
            "  Downloading semver-3.0.0-py3-none-any.whl (17 kB)\n",
            "Requirement already satisfied: arviz>=0.11.0 in /Users/paditya9/opt/anaconda3/lib/python3.9/site-packages (from PyMC3) (0.15.1)\n",
            "Collecting deprecat\n",
            "  Downloading deprecat-2.1.1-py2.py3-none-any.whl (9.8 kB)\n",
            "Collecting scipy<1.8.0,>=1.7.3\n",
            "  Downloading scipy-1.7.3-cp39-cp39-macosx_10_9_x86_64.whl (33.2 MB)\n",
            "\u001b[2K     \u001b[90m━━━━━━━━━━━━━━━━━━━━━━━━━━━━━━━━━━━━━━━━\u001b[0m \u001b[32m33.2/33.2 MB\u001b[0m \u001b[31m8.9 MB/s\u001b[0m eta \u001b[36m0:00:00\u001b[0m00:01\u001b[0m00:01\u001b[0m\n",
            "\u001b[?25hRequirement already satisfied: dill in /Users/paditya9/opt/anaconda3/lib/python3.9/site-packages (from PyMC3) (0.3.4)\n",
            "Requirement already satisfied: filelock in /Users/paditya9/opt/anaconda3/lib/python3.9/site-packages (from theano-pymc==1.1.2->PyMC3) (3.6.0)\n",
            "Requirement already satisfied: setuptools>=60.0.0 in /Users/paditya9/opt/anaconda3/lib/python3.9/site-packages (from arviz>=0.11.0->PyMC3) (63.4.1)\n",
            "Collecting arviz>=0.11.0\n",
            "  Downloading arviz-0.15.0-py3-none-any.whl (1.6 MB)\n",
            "\u001b[2K     \u001b[90m━━━━━━━━━━━━━━━━━━━━━━━━━━━━━━━━━━━━━━━━\u001b[0m \u001b[32m1.6/1.6 MB\u001b[0m \u001b[31m3.8 MB/s\u001b[0m eta \u001b[36m0:00:00\u001b[0ma \u001b[36m0:00:01\u001b[0mm\n",
            "\u001b[?25h  Downloading arviz-0.14.0-py3-none-any.whl (1.7 MB)\n",
            "\u001b[2K     \u001b[90m━━━━━━━━━━━━━━━━━━━━━━━━━━━━━━━━━━━━━━━━\u001b[0m \u001b[32m1.7/1.7 MB\u001b[0m \u001b[31m7.0 MB/s\u001b[0m eta \u001b[36m0:00:00\u001b[0ma \u001b[36m0:00:01\u001b[0m\n",
            "\u001b[?25hRequirement already satisfied: matplotlib>=3.5 in /Users/paditya9/opt/anaconda3/lib/python3.9/site-packages (from arviz>=0.11.0->PyMC3) (3.5.2)\n",
            "  Downloading arviz-0.13.0-py3-none-any.whl (1.7 MB)\n",
            "\u001b[2K     \u001b[90m━━━━━━━━━━━━━━━━━━━━━━━━━━━━━━━━━━━━━━━━\u001b[0m \u001b[32m1.7/1.7 MB\u001b[0m \u001b[31m2.6 MB/s\u001b[0m eta \u001b[36m0:00:00\u001b[0m00:01\u001b[0m00:01\u001b[0m\n",
            "\u001b[?25h  Downloading arviz-0.12.1-py3-none-any.whl (1.6 MB)\n",
            "\u001b[2K     \u001b[90m━━━━━━━━━━━━━━━━━━━━━━━━━━━━━━━━━━━━━━━━\u001b[0m \u001b[32m1.6/1.6 MB\u001b[0m \u001b[31m6.4 MB/s\u001b[0m eta \u001b[36m0:00:00\u001b[0m00:01\u001b[0m00:01\u001b[0m\n",
            "\u001b[?25hRequirement already satisfied: xarray>=0.16.1 in /Users/paditya9/opt/anaconda3/lib/python3.9/site-packages (from arviz>=0.11.0->PyMC3) (2023.3.0)\n",
            "Requirement already satisfied: xarray-einstats>=0.2 in /Users/paditya9/opt/anaconda3/lib/python3.9/site-packages (from arviz>=0.11.0->PyMC3) (0.5.1)\n",
            "Requirement already satisfied: packaging in /Users/paditya9/opt/anaconda3/lib/python3.9/site-packages (from arviz>=0.11.0->PyMC3) (21.3)\n",
            "Collecting netcdf4\n",
            "  Downloading netCDF4-1.6.3-cp39-cp39-macosx_10_9_x86_64.whl (4.2 MB)\n",
            "\u001b[2K     \u001b[90m━━━━━━━━━━━━━━━━━━━━━━━━━━━━━━━━━━━━━━━━\u001b[0m \u001b[32m4.2/4.2 MB\u001b[0m \u001b[31m4.2 MB/s\u001b[0m eta \u001b[36m0:00:00\u001b[0ma \u001b[36m0:00:01\u001b[0m\n",
            "\u001b[?25hRequirement already satisfied: python-dateutil>=2.8.1 in /Users/paditya9/opt/anaconda3/lib/python3.9/site-packages (from pandas>=0.24.0->PyMC3) (2.8.2)\n",
            "Requirement already satisfied: pytz>=2020.1 in /Users/paditya9/opt/anaconda3/lib/python3.9/site-packages (from pandas>=0.24.0->PyMC3) (2022.1)\n",
            "Requirement already satisfied: six in /Users/paditya9/opt/anaconda3/lib/python3.9/site-packages (from patsy>=0.5.1->PyMC3) (1.16.0)\n",
            "Requirement already satisfied: wrapt<2,>=1.10 in /Users/paditya9/opt/anaconda3/lib/python3.9/site-packages (from deprecat->PyMC3) (1.14.1)\n",
            "Requirement already satisfied: fonttools>=4.22.0 in /Users/paditya9/opt/anaconda3/lib/python3.9/site-packages (from matplotlib>=3.5->arviz>=0.11.0->PyMC3) (4.25.0)\n",
            "Requirement already satisfied: pillow>=6.2.0 in /Users/paditya9/opt/anaconda3/lib/python3.9/site-packages (from matplotlib>=3.5->arviz>=0.11.0->PyMC3) (9.2.0)\n",
            "Requirement already satisfied: cycler>=0.10 in /Users/paditya9/opt/anaconda3/lib/python3.9/site-packages (from matplotlib>=3.5->arviz>=0.11.0->PyMC3) (0.11.0)\n",
            "Requirement already satisfied: kiwisolver>=1.0.1 in /Users/paditya9/opt/anaconda3/lib/python3.9/site-packages (from matplotlib>=3.5->arviz>=0.11.0->PyMC3) (1.4.2)\n",
            "Requirement already satisfied: pyparsing>=2.2.1 in /Users/paditya9/opt/anaconda3/lib/python3.9/site-packages (from matplotlib>=3.5->arviz>=0.11.0->PyMC3) (3.0.9)\n",
            "Collecting cftime\n",
            "  Downloading cftime-1.6.2-cp39-cp39-macosx_10_9_x86_64.whl (260 kB)\n",
            "\u001b[2K     \u001b[90m━━━━━━━━━━━━━━━━━━━━━━━━━━━━━━━━━━━━━━━\u001b[0m \u001b[32m260.6/260.6 kB\u001b[0m \u001b[31m5.4 MB/s\u001b[0m eta \u001b[36m0:00:00\u001b[0ma \u001b[36m0:00:01\u001b[0m\n",
            "\u001b[?25hBuilding wheels for collected packages: theano-pymc\n",
            "  Building wheel for theano-pymc (setup.py) ... \u001b[?25ldone\n",
            "\u001b[?25h  Created wheel for theano-pymc: filename=Theano_PyMC-1.1.2-py3-none-any.whl size=1529963 sha256=14c73380319ae9f2d0e824c58898a9b4a0c7a5466c7fb79c627d390952079e0e\n",
            "  Stored in directory: /Users/paditya9/Library/Caches/pip/wheels/c4/e7/79/a4810237f47fdbba3728a76e9970e54daf7275fe4f4c12374b\n",
            "Successfully built theano-pymc\n",
            "Installing collected packages: semver, scipy, fastprogress, deprecat, cftime, cachetools, theano-pymc, netcdf4, arviz, PyMC3\n",
            "  Attempting uninstall: scipy\n",
            "    Found existing installation: scipy 1.9.1\n",
            "    Uninstalling scipy-1.9.1:\n",
            "      Successfully uninstalled scipy-1.9.1\n",
            "  Attempting uninstall: arviz\n",
            "    Found existing installation: arviz 0.15.1\n",
            "    Uninstalling arviz-0.15.1:\n",
            "      Successfully uninstalled arviz-0.15.1\n",
            "Successfully installed PyMC3-3.11.5 arviz-0.12.1 cachetools-5.3.0 cftime-1.6.2 deprecat-2.1.1 fastprogress-1.0.3 netcdf4-1.6.3 scipy-1.7.3 semver-3.0.0 theano-pymc-1.1.2\n",
            "\n",
            "\u001b[1m[\u001b[0m\u001b[34;49mnotice\u001b[0m\u001b[1;39;49m]\u001b[0m\u001b[39;49m A new release of pip available: \u001b[0m\u001b[31;49m23.0\u001b[0m\u001b[39;49m -> \u001b[0m\u001b[32;49m23.0.1\u001b[0m\n",
            "\u001b[1m[\u001b[0m\u001b[34;49mnotice\u001b[0m\u001b[1;39;49m]\u001b[0m\u001b[39;49m To update, run: \u001b[0m\u001b[32;49mpip install --upgrade pip\u001b[0m\n"
          ]
        }
      ],
      "source": [
        "!conda  remove theano -y\n",
        "!pip uninstall Theano Theano-PyMC PyMC3 -y\n",
        "!pip install PyMC3"
      ]
    },
    {
      "cell_type": "code",
      "execution_count": null,
      "metadata": {
        "id": "Jb0n44ACfOBE"
      },
      "outputs": [],
      "source": [
        "import pymc3 as pm"
      ]
    },
    {
      "cell_type": "code",
      "execution_count": null,
      "metadata": {
        "id": "mzNGBEzWfOBE"
      },
      "outputs": [],
      "source": [
        "import pandas as pd\n",
        "import numpy as np\n",
        "import pymc3 as pm\n",
        "import matplotlib.pyplot as plt\n",
        "\n",
        "# load the diabetes dataset\n",
        "diab_df = pd.read_csv('/Users/paditya9/Downloads/diabetes.csv')\n",
        "\n",
        "# define the logistic regression model using PyMC3\n",
        "with pm.Model() as logreg_model:\n",
        "    w0 = pm.Normal('w0', mu=0, sd=100)\n",
        "    w1 = pm.Normal('w1', mu=0, sd=100)\n",
        "    w2 = pm.Normal('w2', mu=0, sd=100)\n",
        "    w3 = pm.Normal('w3', mu=0, sd=100)\n",
        "    w4 = pm.Normal('w4', mu=0, sd=100)\n",
        "    w5 = pm.Normal('w5', mu=0, sd=100)\n",
        "    w6 = pm.Normal('w6', mu=0, sd=100)\n",
        "    w7 = pm.Normal('w7', mu=0, sd=100)\n",
        "    w8 = pm.Normal('w8', mu=0, sd=100)\n",
        "    \n",
        "    linreg = w0 * np.ones(diab_df.shape[0]) + w1 * diab_df.Pregnancies.values + w2 * diab_df.Glucose.values \\\n",
        "             + w3 * diab_df.BloodPressure.values + w4 * diab_df.SkinThickness.values + w5 * diab_df.Insulin.values + \\\n",
        "             w6 * diab_df.BMI.values + w7 * diab_df.DiabetesPedigreeFunction.values + w8 * diab_df.Age.values\n",
        "    p_outcome = pm.invlogit(linreg)\n",
        "    likelihood = pm.Bernoulli('likelihood', p_outcome, observed=diab_df.Outcome.values)\n",
        "\n",
        "    # draw 400 samples using Metropolis sampler\n",
        "    trace = pm.sample(400, tune=200, chains=1, step=pm.Metropolis())\n",
        "\n",
        "# plot the trace\n",
        "pm.traceplot(trace)\n",
        "plt.show()"
      ]
    },
    {
      "cell_type": "markdown",
      "source": [
        "The traceplot shows two panels for each model parameter: the top panel shows the posterior distribution of the parameter, while the bottom panel shows the trace of the MCMC samples over the course of the simulation.  We can also look for signs of autocorrelation, which is a measure of how much each sample in the chain depends on the previous sample. Overall, the traceplot is a useful tool for checking the quality of the MCMC samples and diagnosing any potential issues with the algorithm"
      ],
      "metadata": {
        "id": "1bVATaPuf7yz"
      }
    }
  ],
  "metadata": {
    "colab": {
      "provenance": [],
      "collapsed_sections": [
        "VgAMTbJTfR_Z",
        "verXHvWWfcWT",
        "kZrwKLwSff-z"
      ]
    },
    "kernelspec": {
      "display_name": "Python 3 (ipykernel)",
      "language": "python",
      "name": "python3"
    },
    "language_info": {
      "codemirror_mode": {
        "name": "ipython",
        "version": 3
      },
      "file_extension": ".py",
      "mimetype": "text/x-python",
      "name": "python",
      "nbconvert_exporter": "python",
      "pygments_lexer": "ipython3",
      "version": "3.9.13"
    }
  },
  "nbformat": 4,
  "nbformat_minor": 0
}
